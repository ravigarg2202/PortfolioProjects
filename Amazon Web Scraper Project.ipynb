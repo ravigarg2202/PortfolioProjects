{
 "cells": [
  {
   "cell_type": "markdown",
   "id": "285f2652",
   "metadata": {},
   "source": [
    "### Import Libraries"
   ]
  },
  {
   "cell_type": "code",
   "execution_count": 92,
   "id": "14f2b8e2",
   "metadata": {},
   "outputs": [],
   "source": [
    "\n",
    "from bs4 import BeautifulSoup\n",
    "import requests\n",
    "import time\n",
    "import datetime\n",
    "\n",
    "import smtplib"
   ]
  },
  {
   "cell_type": "code",
   "execution_count": 130,
   "id": "5368baf5",
   "metadata": {},
   "outputs": [
    {
     "name": "stdout",
     "output_type": "stream",
     "text": [
      "\n",
      "            Optimum Nutrition Gold Standard 100% Whey Protein Powder, Chocolate Peanut Butter, 2 Pound (Packaging May Vary)\n",
      "           \n",
      "\n",
      "                          $34.99\n",
      "                         \n",
      "\n",
      "\n",
      "\n",
      "\n",
      "\n",
      "\n",
      "\n",
      "\n",
      "\n",
      "                4.7 out of 5 stars\n",
      "               \n",
      "\n",
      "\n",
      "\n",
      "\n",
      "\n",
      "\n",
      "\n",
      "\n",
      "\n",
      "\n",
      "\n",
      "\n",
      "\n",
      "\n",
      "             56,128 ratings\n",
      "            \n",
      "\n",
      "\n",
      "\n",
      "\n",
      "\n",
      "\n",
      "\n",
      "\n",
      "\n",
      "\n",
      "\n",
      "            #1 Best Seller\n",
      "           \n",
      "\n",
      "\n",
      "             in Sports Nutrition Whey Protein Powders\n",
      "            \n",
      "\n",
      "\n",
      "\n",
      "\n"
     ]
    }
   ],
   "source": [
    "# Connecting to Website and getting the data\n",
    "\n",
    "URL = 'https://www.amazon.com/Optimum-Nutrition-Standard-Protein-Chocolate/dp/B006E54GJG/ref=sr_1_3_sspa?keywords=whey%2Bprotein&qid=1647406523&sprefix=whey%2Bpro%2Caps%2C775&sr=8-3-spons&spLa=ZW5jcnlwdGVkUXVhbGlmaWVyPUFUOEdEUTM0UERQOUImZW5jcnlwdGVkSWQ9QTA1NDI5NTkyWk80SlBGVENOS1ZaJmVuY3J5cHRlZEFkSWQ9QTAwMzQwNzRGMTVDRFQ5RUY1MVAmd2lkZ2V0TmFtZT1zcF9hdGYmYWN0aW9uPWNsaWNrUmVkaXJlY3QmZG9Ob3RMb2dDbGljaz10cnVl&th=1'\n",
    "\n",
    "  # get User-Agent from https://httpbin.org/get\n",
    "headers = {\"User-Agent\": \"Mozilla/5.0 (Windows NT 10.0; Win64; x64) AppleWebKit/537.36 (KHTML, like Gecko) Chrome/99.0.4844.51 Safari/537.36\", \"Accept-Encoding\":\"gzip, deflate\", \"Accept\":\"text/html,application/xhtml+xml,application/xml;q=0.9,*/*;q=0.8\", \"DNT\":\"1\",\"Connection\":\"close\", \"Upgrade-Insecure-Requests\":\"1\"}  \n",
    "\n",
    "page = requests.get(URL, headers = headers)\n",
    "\n",
    "soup1 = BeautifulSoup(page.content, 'html.parser')\n",
    "\n",
    "soup2 = BeautifulSoup(soup1.prettify(), 'html.parser')\n",
    "\n",
    "title = soup2.find(id ='productTitle').get_text()\n",
    "\n",
    "prices = soup2.find('span','a-offscreen').get_text()\n",
    "\n",
    "reviews = soup2.find(id =\"averageCustomerReviews_feature_div\").get_text()\n",
    "\n",
    "\n",
    "category = soup2.find(id=\"zeitgeistBadge_feature_div\").get_text()\n",
    "\n",
    "print(title)\n",
    "\n",
    "print(prices)\n",
    "\n",
    "print(reviews)\n",
    "\n",
    "print(category)"
   ]
  },
  {
   "cell_type": "code",
   "execution_count": 134,
   "id": "8971cdf2",
   "metadata": {},
   "outputs": [
    {
     "name": "stdout",
     "output_type": "stream",
     "text": [
      "Optimum Nutrition Gold Standard 100% Whey Protein Powder, Chocolate Peanut Butter, 2 Pound (Packaging May Vary)\n",
      "34.99\n",
      "4.7\n",
      "56,128\n",
      "Sports Nutrition Whey Protein Powders\n"
     ]
    }
   ],
   "source": [
    "# Cleaning the data\n",
    "\n",
    "title = title.strip()\n",
    "price = prices.strip()[1:]\n",
    "rating = reviews.strip().split(' ')[0]\n",
    "no_of_ratings = reviews.strip().split(' ')[-2]\n",
    "cat = category.strip().split(' in ')[-1]\n",
    "\n",
    "print(title)\n",
    "\n",
    "print(price)\n",
    "\n",
    "print(rating)\n",
    "\n",
    "print(no_of_ratings)\n",
    "\n",
    "print(cat)"
   ]
  },
  {
   "cell_type": "code",
   "execution_count": 135,
   "id": "85322f18",
   "metadata": {},
   "outputs": [
    {
     "name": "stdout",
     "output_type": "stream",
     "text": [
      "2022-03-16\n"
     ]
    }
   ],
   "source": [
    "# Create a Timestamp to track when data was collected\n",
    "\n",
    "today = datetime.date.today()\n",
    "\n",
    "print(today)"
   ]
  },
  {
   "cell_type": "code",
   "execution_count": 143,
   "id": "7d7bfa23",
   "metadata": {},
   "outputs": [],
   "source": [
    "# Create CSV and write headers and data into the file\n",
    "\n",
    "import csv\n",
    "\n",
    "header = ['Title','Price','Date','average_rating','no_of_ratings','category']\n",
    "data = [title, price, today, rating, no_of_ratings, cat]\n",
    "\n",
    "with open('AmazonWebScraperDataset.csv', 'w', newline='', encoding='UTF8') as f:\n",
    "    writer = csv.writer(f)\n",
    "    writer.writerow(header)\n",
    "    writer.writerow(data)\n",
    "    "
   ]
  },
  {
   "cell_type": "code",
   "execution_count": 144,
   "id": "ea1cdd08",
   "metadata": {},
   "outputs": [
    {
     "name": "stdout",
     "output_type": "stream",
     "text": [
      "                                               Title  Price        Date  \\\n",
      "0  Optimum Nutrition Gold Standard 100% Whey Prot...  34.99  2022-03-16   \n",
      "\n",
      "   average_rating no_of_ratings                               category  \n",
      "0             4.7        56,128  Sports Nutrition Whey Protein Powders  \n"
     ]
    }
   ],
   "source": [
    "# View our csv file data\n",
    "\n",
    "import pandas as pd\n",
    "\n",
    "df = pd.read_csv(r'C:\\Users\\coolr\\AmazonWebScraperDataset.csv')\n",
    "\n",
    "print(df)"
   ]
  },
  {
   "cell_type": "code",
   "execution_count": 148,
   "id": "5de375ff",
   "metadata": {},
   "outputs": [],
   "source": [
    "# Appending new data to the csv file\n",
    "\n",
    "with open('AmazonWebScraperDataset.csv', 'a+', newline='', encoding='UTF8') as f:\n",
    "    writer = csv.writer(f)\n",
    "    writer.writerow(data)"
   ]
  },
  {
   "cell_type": "code",
   "execution_count": 149,
   "id": "08f4ccc1",
   "metadata": {},
   "outputs": [
    {
     "name": "stdout",
     "output_type": "stream",
     "text": [
      "                                               Title  Price        Date  \\\n",
      "0  Optimum Nutrition Gold Standard 100% Whey Prot...  34.99  2022-03-16   \n",
      "1  Optimum Nutrition Gold Standard 100% Whey Prot...  34.99  2022-03-16   \n",
      "2  Optimum Nutrition Gold Standard 100% Whey Prot...  34.99  2022-03-16   \n",
      "\n",
      "   average_rating no_of_ratings                               category  \n",
      "0             4.7        56,128  Sports Nutrition Whey Protein Powders  \n",
      "1             4.7        56,128  Sports Nutrition Whey Protein Powders  \n",
      "2             4.7        56,128  Sports Nutrition Whey Protein Powders  \n"
     ]
    }
   ],
   "source": [
    "# View our csv file data\n",
    "\n",
    "import pandas as pd\n",
    "\n",
    "df = pd.read_csv(r'C:\\Users\\coolr\\AmazonWebScraperDataset.csv')\n",
    "\n",
    "print(df)"
   ]
  },
  {
   "cell_type": "code",
   "execution_count": 150,
   "id": "ecf528fb",
   "metadata": {},
   "outputs": [],
   "source": [
    "# Combining all of the above code into one function - to allow repetition\n",
    "\n",
    "def check_price():\n",
    "\n",
    "    # Connecting to Website and getting the data  \n",
    "    \n",
    "    URL = 'https://www.amazon.com/Optimum-Nutrition-Standard-Protein-Chocolate/dp/B006E54GJG/ref=sr_1_3_sspa?keywords=whey%2Bprotein&qid=1647406523&sprefix=whey%2Bpro%2Caps%2C775&sr=8-3-spons&spLa=ZW5jcnlwdGVkUXVhbGlmaWVyPUFUOEdEUTM0UERQOUImZW5jcnlwdGVkSWQ9QTA1NDI5NTkyWk80SlBGVENOS1ZaJmVuY3J5cHRlZEFkSWQ9QTAwMzQwNzRGMTVDRFQ5RUY1MVAmd2lkZ2V0TmFtZT1zcF9hdGYmYWN0aW9uPWNsaWNrUmVkaXJlY3QmZG9Ob3RMb2dDbGljaz10cnVl&th=1'\n",
    "\n",
    "    headers = {\"User-Agent\": \"Mozilla/5.0 (Windows NT 10.0; Win64; x64) AppleWebKit/537.36 (KHTML, like Gecko) Chrome/99.0.4844.51 Safari/537.36\", \"Accept-Encoding\":\"gzip, deflate\", \"Accept\":\"text/html,application/xhtml+xml,application/xml;q=0.9,*/*;q=0.8\", \"DNT\":\"1\",\"Connection\":\"close\", \"Upgrade-Insecure-Requests\":\"1\"}  \n",
    "\n",
    "    page = requests.get(URL, headers = headers)\n",
    "\n",
    "    soup1 = BeautifulSoup(page.content, 'html.parser')\n",
    "\n",
    "    soup2 = BeautifulSoup(soup1.prettify(), 'html.parser')\n",
    "\n",
    "    title = soup2.find(id ='productTitle').get_text()\n",
    "\n",
    "    prices = soup2.find('span','a-offscreen').get_text()\n",
    "\n",
    "    reviews = soup2.find(id =\"averageCustomerReviews_feature_div\").get_text()\n",
    "\n",
    "\n",
    "    category = soup2.find(id=\"zeitgeistBadge_feature_div\").get_text()\n",
    "\n",
    "    # Cleaning the data\n",
    "\n",
    "    title = title.strip()\n",
    "    price = prices.strip()[1:]\n",
    "    rating = reviews.strip().split(' ')[0]\n",
    "    no_of_ratings = reviews.strip().split(' ')[-2]\n",
    "    cat = category.strip().split(' in ')[-1]\n",
    "    \n",
    "    # Appending new data to the csv file\n",
    "\n",
    "    with open('AmazonWebScraperDataset.csv', 'a+', newline='', encoding='UTF8') as f:\n",
    "        writer = csv.writer(f)\n",
    "        writer.writerow(data)\n",
    "        \n",
    "    # View our csv file data\n",
    "\n",
    "    import pandas as pd\n",
    "\n",
    "    df = pd.read_csv(r'C:\\Users\\coolr\\AmazonWebScraperDataset.csv')\n"
   ]
  },
  {
   "cell_type": "code",
   "execution_count": 151,
   "id": "77cf4377",
   "metadata": {},
   "outputs": [
    {
     "ename": "KeyboardInterrupt",
     "evalue": "",
     "output_type": "error",
     "traceback": [
      "\u001b[1;31m---------------------------------------------------------------------------\u001b[0m",
      "\u001b[1;31mKeyboardInterrupt\u001b[0m                         Traceback (most recent call last)",
      "\u001b[1;32m<ipython-input-151-b35659e3a562>\u001b[0m in \u001b[0;36m<module>\u001b[1;34m\u001b[0m\n\u001b[0;32m      1\u001b[0m \u001b[1;32mwhile\u001b[0m\u001b[1;33m(\u001b[0m\u001b[1;32mTrue\u001b[0m\u001b[1;33m)\u001b[0m\u001b[1;33m:\u001b[0m\u001b[1;33m\u001b[0m\u001b[1;33m\u001b[0m\u001b[0m\n\u001b[0;32m      2\u001b[0m     \u001b[0mcheck_price\u001b[0m\u001b[1;33m(\u001b[0m\u001b[1;33m)\u001b[0m\u001b[1;33m\u001b[0m\u001b[1;33m\u001b[0m\u001b[0m\n\u001b[1;32m----> 3\u001b[1;33m     \u001b[0mtime\u001b[0m\u001b[1;33m.\u001b[0m\u001b[0msleep\u001b[0m\u001b[1;33m(\u001b[0m\u001b[1;36m2\u001b[0m\u001b[1;33m)\u001b[0m\u001b[1;33m\u001b[0m\u001b[1;33m\u001b[0m\u001b[0m\n\u001b[0m",
      "\u001b[1;31mKeyboardInterrupt\u001b[0m: "
     ]
    }
   ],
   "source": [
    "while(True):\n",
    "    check_price()\n",
    "    time.sleep(2)"
   ]
  },
  {
   "cell_type": "code",
   "execution_count": 152,
   "id": "68d85485",
   "metadata": {},
   "outputs": [
    {
     "name": "stdout",
     "output_type": "stream",
     "text": [
      "                                               Title  Price        Date  \\\n",
      "0  Optimum Nutrition Gold Standard 100% Whey Prot...  34.99  2022-03-16   \n",
      "1  Optimum Nutrition Gold Standard 100% Whey Prot...  34.99  2022-03-16   \n",
      "2  Optimum Nutrition Gold Standard 100% Whey Prot...  34.99  2022-03-16   \n",
      "3  Optimum Nutrition Gold Standard 100% Whey Prot...  34.99  2022-03-16   \n",
      "\n",
      "   average_rating no_of_ratings                               category  \n",
      "0             4.7        56,128  Sports Nutrition Whey Protein Powders  \n",
      "1             4.7        56,128  Sports Nutrition Whey Protein Powders  \n",
      "2             4.7        56,128  Sports Nutrition Whey Protein Powders  \n",
      "3             4.7        56,128  Sports Nutrition Whey Protein Powders  \n"
     ]
    }
   ],
   "source": [
    "import pandas as pd\n",
    "\n",
    "df = pd.read_csv(r'C:\\Users\\coolr\\AmazonWebScraperDataset.csv')\n",
    "\n",
    "print(df)"
   ]
  },
  {
   "cell_type": "code",
   "execution_count": null,
   "id": "5528b4a4",
   "metadata": {},
   "outputs": [],
   "source": [
    "# Sending yourself an email (just for fun) when a price hits below a certain level.\n",
    "\n",
    "def send_mail():\n",
    "    \n",
    "    server = smtplib.SMTP_SSL('smtp.gmail.com',465)\n",
    "    server.ehlo()\n",
    "    #server.starttls()\n",
    "    server.ehlo()\n",
    "    server.login('ravigarg2202@gmail.com','xxxxxxxxxxxxxx')\n",
    "    \n",
    "    subject = \"The Whey Protein you want is below $30! Now is your chance to buy!\"\n",
    "    body = \"Ravi, This is the moment we have been waiting for. Now is your chance to pick up the whey protein of your dreams. Don't mess it up! Link here: https://www.amazon.com/Optimum-Nutrition-Standard-Protein-Chocolate/dp/B006E54GJG/ref=sr_1_3_sspa?keywords=whey%2Bprotein&qid=1647406523&sprefix=whey%2Bpro%2Caps%2C775&sr=8-3-spons&spLa=ZW5jcnlwdGVkUXVhbGlmaWVyPUFUOEdEUTM0UERQOUImZW5jcnlwdGVkSWQ9QTA1NDI5NTkyWk80SlBGVENOS1ZaJmVuY3J5cHRlZEFkSWQ9QTAwMzQwNzRGMTVDRFQ5RUY1MVAmd2lkZ2V0TmFtZT1zcF9hdGYmYWN0aW9uPWNsaWNrUmVkaXJlY3QmZG9Ob3RMb2dDbGljaz10cnVl&th=1\n",
    "   \n",
    "    msg = f\"Subject: {subject}\\n\\n{body}\"\n",
    "    \n",
    "    server.sendmail(\n",
    "        'ravigarg2202@gmail.com',\n",
    "        msg\n",
    "    )"
   ]
  }
 ],
 "metadata": {
  "kernelspec": {
   "display_name": "Python 3 (ipykernel)",
   "language": "python",
   "name": "python3"
  },
  "language_info": {
   "codemirror_mode": {
    "name": "ipython",
    "version": 3
   },
   "file_extension": ".py",
   "mimetype": "text/x-python",
   "name": "python",
   "nbconvert_exporter": "python",
   "pygments_lexer": "ipython3",
   "version": "3.9.7"
  }
 },
 "nbformat": 4,
 "nbformat_minor": 5
}
